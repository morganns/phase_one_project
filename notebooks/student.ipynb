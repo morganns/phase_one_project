{
 "cells": [
  {
   "cell_type": "markdown",
   "metadata": {},
   "source": [
    "# Final Project Submission\n",
    "\n",
    "Please fill out:\n",
    "* Student name: Morgan Abukuse Amunga\n",
    "* Student pace: full time - Remote\n",
    "* Scheduled project review date/time: \n",
    "* Instructor name: Lucille Kaleha\n",
    "* Blog post URL:\n"
   ]
  },
  {
   "cell_type": "markdown",
   "metadata": {},
   "source": [
    "# Project Overview"
   ]
  },
  {
   "cell_type": "markdown",
   "metadata": {},
   "source": [
    "This project focuses on analyzing aviation accident data from 1962 to 2023, sourced from the National Transportation Safety Board (NTSB). The primary goal is to identify low-risk aircraft and provide actionable insights to improve aviation safety and operational decision-making for a business venturing into the aviation industry.\n"
   ]
  },
  {
   "cell_type": "markdown",
   "metadata": {},
   "source": [
    "# Business Understanding"
   ]
  },
  {
   "cell_type": "markdown",
   "metadata": {},
   "source": [
    "## Stakeholders"
   ]
  },
  {
   "cell_type": "markdown",
   "metadata": {},
   "source": [
    "***1. Aviation Division Head***"
   ]
  },
  {
   "cell_type": "markdown",
   "metadata": {},
   "source": [
    "The primary stakeholder responsible for operational and strategic decisions in the aviation business"
   ]
  },
  {
   "cell_type": "markdown",
   "metadata": {},
   "source": [
    "***2. Business Executive***"
   ]
  },
  {
   "cell_type": "markdown",
   "metadata": {},
   "source": [
    "Require actionable insights for aircraft acquisition and safety strategies."
   ]
  },
  {
   "cell_type": "markdown",
   "metadata": {},
   "source": [
    "***3. Operational Teams***"
   ]
  },
  {
   "cell_type": "markdown",
   "metadata": {},
   "source": [
    "Interested in insights to enhance safety protocols and mitigate risks during operations."
   ]
  },
  {
   "cell_type": "markdown",
   "metadata": {},
   "source": [
    "## Key Business Questions"
   ]
  },
  {
   "cell_type": "markdown",
   "metadata": {},
   "source": [
    "1. Which aircraft types are associated with the lowest risks based on historical accident data?\n",
    "2. What operational factors (e.g., flight phases, weather conditions) significantly impact accident severity?\n",
    "3. Which regions and manufacturers require targeted safety interventions to reduce accident risks?\n"
   ]
  },
  {
   "cell_type": "markdown",
   "metadata": {},
   "source": [
    "# Data Understanding and Analysis"
   ]
  },
  {
   "cell_type": "markdown",
   "metadata": {},
   "source": [
    "## Source of Data"
   ]
  },
  {
   "cell_type": "markdown",
   "metadata": {},
   "source": [
    "The data comes from the National Transportation Safety Board (NTSB) and includes civil aviation accidents and incidents from 1962 to 2023.\n",
    "\n",
    "It has the following Key features;\n",
    "\n",
    "a. Accident Details: Date, location, and severity of accidents.\n",
    "\n",
    "b. Aircraft Specifications: Manufacturer, model, and type.\n",
    "\n",
    "c. Operational Context: Flight purpose, weather conditions, and flight phases.\n",
    "\n",
    "d. Injuries: Counts of fatal, serious, and minor injuries.\n"
   ]
  },
  {
   "cell_type": "markdown",
   "metadata": {},
   "source": [
    "# Exploratory Data Analysis"
   ]
  },
  {
   "cell_type": "markdown",
   "metadata": {},
   "source": [
    "My goal here is to understand the structure of the dataset. This includes columns, data types, and missing values. \n",
    "Also to identify any immediate data quality issues eg inconsistent types, missing values e.t.c"
   ]
  },
  {
   "cell_type": "markdown",
   "metadata": {},
   "source": [
    "## Loading the necessary libraries"
   ]
  },
  {
   "cell_type": "markdown",
   "metadata": {},
   "source": [
    "I will import pandas library as below;"
   ]
  },
  {
   "cell_type": "code",
   "execution_count": 1,
   "metadata": {},
   "outputs": [],
   "source": [
    "import pandas as pd"
   ]
  },
  {
   "cell_type": "markdown",
   "metadata": {},
   "source": [
    "## Loading the aviation dataset"
   ]
  },
  {
   "cell_type": "markdown",
   "metadata": {},
   "source": [
    "After importing the pandas library, my next step is now to load aviation data as shown."
   ]
  },
  {
   "cell_type": "code",
   "execution_count": 6,
   "metadata": {},
   "outputs": [
    {
     "ename": "FileNotFoundError",
     "evalue": "[Errno 2] No such file or directory: 'AviationData.csv'",
     "output_type": "error",
     "traceback": [
      "\u001b[1;31m---------------------------------------------------------------------------\u001b[0m",
      "\u001b[1;31mFileNotFoundError\u001b[0m                         Traceback (most recent call last)",
      "\u001b[1;32m<ipython-input-6-565efcf837bb>\u001b[0m in \u001b[0;36m<module>\u001b[1;34m\u001b[0m\n\u001b[1;32m----> 1\u001b[1;33m \u001b[0maviation_data\u001b[0m \u001b[1;33m=\u001b[0m \u001b[0mpd\u001b[0m\u001b[1;33m.\u001b[0m\u001b[0mread_csv\u001b[0m\u001b[1;33m(\u001b[0m\u001b[1;34m'AviationData.csv'\u001b[0m\u001b[1;33m,\u001b[0m\u001b[0mencoding\u001b[0m\u001b[1;33m=\u001b[0m\u001b[1;34m\"latin-1\"\u001b[0m\u001b[1;33m)\u001b[0m\u001b[1;33m\u001b[0m\u001b[1;33m\u001b[0m\u001b[0m\n\u001b[0m\u001b[0;32m      2\u001b[0m \u001b[0maviation_data\u001b[0m\u001b[1;33m\u001b[0m\u001b[1;33m\u001b[0m\u001b[0m\n",
      "\u001b[1;32m~\\anaconda3\\envs\\learn-env\\lib\\site-packages\\pandas\\io\\parsers.py\u001b[0m in \u001b[0;36mread_csv\u001b[1;34m(filepath_or_buffer, sep, delimiter, header, names, index_col, usecols, squeeze, prefix, mangle_dupe_cols, dtype, engine, converters, true_values, false_values, skipinitialspace, skiprows, skipfooter, nrows, na_values, keep_default_na, na_filter, verbose, skip_blank_lines, parse_dates, infer_datetime_format, keep_date_col, date_parser, dayfirst, cache_dates, iterator, chunksize, compression, thousands, decimal, lineterminator, quotechar, quoting, doublequote, escapechar, comment, encoding, dialect, error_bad_lines, warn_bad_lines, delim_whitespace, low_memory, memory_map, float_precision)\u001b[0m\n\u001b[0;32m    684\u001b[0m     )\n\u001b[0;32m    685\u001b[0m \u001b[1;33m\u001b[0m\u001b[0m\n\u001b[1;32m--> 686\u001b[1;33m     \u001b[1;32mreturn\u001b[0m \u001b[0m_read\u001b[0m\u001b[1;33m(\u001b[0m\u001b[0mfilepath_or_buffer\u001b[0m\u001b[1;33m,\u001b[0m \u001b[0mkwds\u001b[0m\u001b[1;33m)\u001b[0m\u001b[1;33m\u001b[0m\u001b[1;33m\u001b[0m\u001b[0m\n\u001b[0m\u001b[0;32m    687\u001b[0m \u001b[1;33m\u001b[0m\u001b[0m\n\u001b[0;32m    688\u001b[0m \u001b[1;33m\u001b[0m\u001b[0m\n",
      "\u001b[1;32m~\\anaconda3\\envs\\learn-env\\lib\\site-packages\\pandas\\io\\parsers.py\u001b[0m in \u001b[0;36m_read\u001b[1;34m(filepath_or_buffer, kwds)\u001b[0m\n\u001b[0;32m    450\u001b[0m \u001b[1;33m\u001b[0m\u001b[0m\n\u001b[0;32m    451\u001b[0m     \u001b[1;31m# Create the parser.\u001b[0m\u001b[1;33m\u001b[0m\u001b[1;33m\u001b[0m\u001b[1;33m\u001b[0m\u001b[0m\n\u001b[1;32m--> 452\u001b[1;33m     \u001b[0mparser\u001b[0m \u001b[1;33m=\u001b[0m \u001b[0mTextFileReader\u001b[0m\u001b[1;33m(\u001b[0m\u001b[0mfp_or_buf\u001b[0m\u001b[1;33m,\u001b[0m \u001b[1;33m**\u001b[0m\u001b[0mkwds\u001b[0m\u001b[1;33m)\u001b[0m\u001b[1;33m\u001b[0m\u001b[1;33m\u001b[0m\u001b[0m\n\u001b[0m\u001b[0;32m    453\u001b[0m \u001b[1;33m\u001b[0m\u001b[0m\n\u001b[0;32m    454\u001b[0m     \u001b[1;32mif\u001b[0m \u001b[0mchunksize\u001b[0m \u001b[1;32mor\u001b[0m \u001b[0miterator\u001b[0m\u001b[1;33m:\u001b[0m\u001b[1;33m\u001b[0m\u001b[1;33m\u001b[0m\u001b[0m\n",
      "\u001b[1;32m~\\anaconda3\\envs\\learn-env\\lib\\site-packages\\pandas\\io\\parsers.py\u001b[0m in \u001b[0;36m__init__\u001b[1;34m(self, f, engine, **kwds)\u001b[0m\n\u001b[0;32m    944\u001b[0m             \u001b[0mself\u001b[0m\u001b[1;33m.\u001b[0m\u001b[0moptions\u001b[0m\u001b[1;33m[\u001b[0m\u001b[1;34m\"has_index_names\"\u001b[0m\u001b[1;33m]\u001b[0m \u001b[1;33m=\u001b[0m \u001b[0mkwds\u001b[0m\u001b[1;33m[\u001b[0m\u001b[1;34m\"has_index_names\"\u001b[0m\u001b[1;33m]\u001b[0m\u001b[1;33m\u001b[0m\u001b[1;33m\u001b[0m\u001b[0m\n\u001b[0;32m    945\u001b[0m \u001b[1;33m\u001b[0m\u001b[0m\n\u001b[1;32m--> 946\u001b[1;33m         \u001b[0mself\u001b[0m\u001b[1;33m.\u001b[0m\u001b[0m_make_engine\u001b[0m\u001b[1;33m(\u001b[0m\u001b[0mself\u001b[0m\u001b[1;33m.\u001b[0m\u001b[0mengine\u001b[0m\u001b[1;33m)\u001b[0m\u001b[1;33m\u001b[0m\u001b[1;33m\u001b[0m\u001b[0m\n\u001b[0m\u001b[0;32m    947\u001b[0m \u001b[1;33m\u001b[0m\u001b[0m\n\u001b[0;32m    948\u001b[0m     \u001b[1;32mdef\u001b[0m \u001b[0mclose\u001b[0m\u001b[1;33m(\u001b[0m\u001b[0mself\u001b[0m\u001b[1;33m)\u001b[0m\u001b[1;33m:\u001b[0m\u001b[1;33m\u001b[0m\u001b[1;33m\u001b[0m\u001b[0m\n",
      "\u001b[1;32m~\\anaconda3\\envs\\learn-env\\lib\\site-packages\\pandas\\io\\parsers.py\u001b[0m in \u001b[0;36m_make_engine\u001b[1;34m(self, engine)\u001b[0m\n\u001b[0;32m   1176\u001b[0m     \u001b[1;32mdef\u001b[0m \u001b[0m_make_engine\u001b[0m\u001b[1;33m(\u001b[0m\u001b[0mself\u001b[0m\u001b[1;33m,\u001b[0m \u001b[0mengine\u001b[0m\u001b[1;33m=\u001b[0m\u001b[1;34m\"c\"\u001b[0m\u001b[1;33m)\u001b[0m\u001b[1;33m:\u001b[0m\u001b[1;33m\u001b[0m\u001b[1;33m\u001b[0m\u001b[0m\n\u001b[0;32m   1177\u001b[0m         \u001b[1;32mif\u001b[0m \u001b[0mengine\u001b[0m \u001b[1;33m==\u001b[0m \u001b[1;34m\"c\"\u001b[0m\u001b[1;33m:\u001b[0m\u001b[1;33m\u001b[0m\u001b[1;33m\u001b[0m\u001b[0m\n\u001b[1;32m-> 1178\u001b[1;33m             \u001b[0mself\u001b[0m\u001b[1;33m.\u001b[0m\u001b[0m_engine\u001b[0m \u001b[1;33m=\u001b[0m \u001b[0mCParserWrapper\u001b[0m\u001b[1;33m(\u001b[0m\u001b[0mself\u001b[0m\u001b[1;33m.\u001b[0m\u001b[0mf\u001b[0m\u001b[1;33m,\u001b[0m \u001b[1;33m**\u001b[0m\u001b[0mself\u001b[0m\u001b[1;33m.\u001b[0m\u001b[0moptions\u001b[0m\u001b[1;33m)\u001b[0m\u001b[1;33m\u001b[0m\u001b[1;33m\u001b[0m\u001b[0m\n\u001b[0m\u001b[0;32m   1179\u001b[0m         \u001b[1;32melse\u001b[0m\u001b[1;33m:\u001b[0m\u001b[1;33m\u001b[0m\u001b[1;33m\u001b[0m\u001b[0m\n\u001b[0;32m   1180\u001b[0m             \u001b[1;32mif\u001b[0m \u001b[0mengine\u001b[0m \u001b[1;33m==\u001b[0m \u001b[1;34m\"python\"\u001b[0m\u001b[1;33m:\u001b[0m\u001b[1;33m\u001b[0m\u001b[1;33m\u001b[0m\u001b[0m\n",
      "\u001b[1;32m~\\anaconda3\\envs\\learn-env\\lib\\site-packages\\pandas\\io\\parsers.py\u001b[0m in \u001b[0;36m__init__\u001b[1;34m(self, src, **kwds)\u001b[0m\n\u001b[0;32m   1989\u001b[0m         \u001b[1;32mif\u001b[0m \u001b[0mkwds\u001b[0m\u001b[1;33m.\u001b[0m\u001b[0mget\u001b[0m\u001b[1;33m(\u001b[0m\u001b[1;34m\"compression\"\u001b[0m\u001b[1;33m)\u001b[0m \u001b[1;32mis\u001b[0m \u001b[1;32mNone\u001b[0m \u001b[1;32mand\u001b[0m \u001b[0mencoding\u001b[0m\u001b[1;33m:\u001b[0m\u001b[1;33m\u001b[0m\u001b[1;33m\u001b[0m\u001b[0m\n\u001b[0;32m   1990\u001b[0m             \u001b[1;32mif\u001b[0m \u001b[0misinstance\u001b[0m\u001b[1;33m(\u001b[0m\u001b[0msrc\u001b[0m\u001b[1;33m,\u001b[0m \u001b[0mstr\u001b[0m\u001b[1;33m)\u001b[0m\u001b[1;33m:\u001b[0m\u001b[1;33m\u001b[0m\u001b[1;33m\u001b[0m\u001b[0m\n\u001b[1;32m-> 1991\u001b[1;33m                 \u001b[0msrc\u001b[0m \u001b[1;33m=\u001b[0m \u001b[0mopen\u001b[0m\u001b[1;33m(\u001b[0m\u001b[0msrc\u001b[0m\u001b[1;33m,\u001b[0m \u001b[1;34m\"rb\"\u001b[0m\u001b[1;33m)\u001b[0m\u001b[1;33m\u001b[0m\u001b[1;33m\u001b[0m\u001b[0m\n\u001b[0m\u001b[0;32m   1992\u001b[0m                 \u001b[0mself\u001b[0m\u001b[1;33m.\u001b[0m\u001b[0mhandles\u001b[0m\u001b[1;33m.\u001b[0m\u001b[0mappend\u001b[0m\u001b[1;33m(\u001b[0m\u001b[0msrc\u001b[0m\u001b[1;33m)\u001b[0m\u001b[1;33m\u001b[0m\u001b[1;33m\u001b[0m\u001b[0m\n\u001b[0;32m   1993\u001b[0m \u001b[1;33m\u001b[0m\u001b[0m\n",
      "\u001b[1;31mFileNotFoundError\u001b[0m: [Errno 2] No such file or directory: 'AviationData.csv'"
     ]
    }
   ],
   "source": [
    "aviation_data = pd.read_csv('AviationData.csv',encoding=\"latin-1\")\n",
    "aviation_data"
   ]
  },
  {
   "cell_type": "markdown",
   "metadata": {},
   "source": [
    "## Let us check the Dataset shape(rows and columns)"
   ]
  },
  {
   "cell_type": "code",
   "execution_count": null,
   "metadata": {},
   "outputs": [],
   "source": [
    "print(\"Dataset Shape:\",aviation_data.shape)"
   ]
  },
  {
   "cell_type": "markdown",
   "metadata": {},
   "source": [
    "The dataset has 90348 rows and 31 columns."
   ]
  },
  {
   "cell_type": "markdown",
   "metadata": {},
   "source": [
    "## Display first 5 rows of our dataset"
   ]
  },
  {
   "cell_type": "markdown",
   "metadata": {},
   "source": [
    "This will help me to understand the details of our first 5 rows with all the 31 columns."
   ]
  },
  {
   "cell_type": "code",
   "execution_count": null,
   "metadata": {},
   "outputs": [],
   "source": [
    "aviation_data.head()"
   ]
  },
  {
   "cell_type": "markdown",
   "metadata": {},
   "source": [
    "## Checking for the dataset information, column names and data types"
   ]
  },
  {
   "cell_type": "code",
   "execution_count": null,
   "metadata": {},
   "outputs": [],
   "source": [
    "aviation_data.info()"
   ]
  },
  {
   "cell_type": "markdown",
   "metadata": {},
   "source": [
    "The dataset has a entries which varies across. Also we have object and float64 data types "
   ]
  },
  {
   "cell_type": "code",
   "execution_count": null,
   "metadata": {},
   "outputs": [],
   "source": [
    "aviation_data.dtypes"
   ]
  },
  {
   "cell_type": "markdown",
   "metadata": {},
   "source": [
    "## Checking for missing values"
   ]
  },
  {
   "cell_type": "code",
   "execution_count": null,
   "metadata": {},
   "outputs": [],
   "source": [
    "aviation_data.isnull().sum()"
   ]
  },
  {
   "cell_type": "markdown",
   "metadata": {},
   "source": [
    "# Checking for summary statistcics "
   ]
  },
  {
   "cell_type": "code",
   "execution_count": null,
   "metadata": {},
   "outputs": [],
   "source": [
    "aviation_data.describe()"
   ]
  },
  {
   "cell_type": "markdown",
   "metadata": {},
   "source": [
    "# Points to Note"
   ]
  },
  {
   "cell_type": "markdown",
   "metadata": {},
   "source": [
    "### 1.Missing Values\n",
    "\n",
    "  Schedule, Air.carrier, Aircraft.Category, FAR.Description, and Longitude have the highest number of missing values while      \n",
    "  Investigation.Type does not have a missing value.\n",
    "\n",
    "### 2.There are key inconsistencies in our dataset. This is as follows;\n",
    "    \n",
    "   a. Longitude and Latitude should be numeric(float64)\n",
    "   \n",
    "   b. Event.Date and Publication.Date should be datetime\n",
    "   \n",
    "   c. Number of engines and injuries are integers like column could be integers after imputing missing values.\n",
    "   \n",
    "   d. Categorical data stored as objects could be converted to category for better memory optimization and performance.\n",
    "\n",
    "### 3.Risk Indicators\n",
    "\n",
    "   a. Accident Frequency. (Say how any accidents occurred annually or by location(State or country), identify the trends of \n",
    "       accident occurrence over time)\n",
    "       \n",
    "   b. Injury severity.(Distribution of Total.Fatal.Injuries, total serious injuries and total minor injuries)\n",
    "   \n",
    "   c. Aircraft damage. Categories of aircraft damage and relationship between damage type and injury severity\n",
    "\n"
   ]
  },
  {
   "cell_type": "markdown",
   "metadata": {},
   "source": [
    "I will use this point for;\n",
    "\n",
    "   1.Risk Evaluation. Say which aircraft types,flight phases or conditions lead to higher risks to guide  in decision    \n",
    "        making.\n",
    "         \n",
    "   2.For business recommendations. Will help the stakeholders focus on low risk aircraft,regions and conditions."
   ]
  },
  {
   "cell_type": "markdown",
   "metadata": {},
   "source": [
    "# Data Cleaning and Preparation"
   ]
  },
  {
   "cell_type": "markdown",
   "metadata": {},
   "source": [
    "I will drop some columns ***(High-missing-value columns like Latitude, Longitude, Airport.Code, etc.)***, perform imputation ***(Filled missing injury values with 0 and categorical values with \"Unknown\")***, standardize(ensure consistency in key features) and analyse the dimensions ***(Accident trends over time.\n",
    "Severity of injuries by flight phase, weather condition, and aircraft type.\n",
    "Manufacturer and regional analysis)***"
   ]
  },
  {
   "cell_type": "markdown",
   "metadata": {},
   "source": [
    "### Columns with missing values "
   ]
  },
  {
   "cell_type": "code",
   "execution_count": null,
   "metadata": {
    "scrolled": true
   },
   "outputs": [],
   "source": [
    "missing_values = aviation_data.isnull().sum()\n",
    "missing_values"
   ]
  },
  {
   "cell_type": "markdown",
   "metadata": {},
   "source": [
    "### Percentage of Missing Values for each column "
   ]
  },
  {
   "cell_type": "code",
   "execution_count": null,
   "metadata": {},
   "outputs": [],
   "source": [
    "missing_percentage = (missing_values / len(aviation_data)) * 100\n",
    "missing_percentage"
   ]
  },
  {
   "cell_type": "markdown",
   "metadata": {},
   "source": [
    "Combining the Results into a Dataframe for Readability"
   ]
  },
  {
   "cell_type": "code",
   "execution_count": null,
   "metadata": {},
   "outputs": [],
   "source": [
    "missing_data_summary = pd.DataFrame({\n",
    "  \"Missing Values\": missing_values,  \n",
    "  \"Percentage Missing\": missing_percentage\n",
    "}).sort_values(by = \"Percentage Missing\",ascending = False)\n",
    "missing_data_summary"
   ]
  },
  {
   "cell_type": "markdown",
   "metadata": {},
   "source": [
    "Columns with more than 50%"
   ]
  },
  {
   "cell_type": "code",
   "execution_count": null,
   "metadata": {},
   "outputs": [],
   "source": [
    "critical_missing_columns = missing_data_summary[missing_data_summary[\"Percentage Missing\"] > 50]\n",
    "critical_missing_columns"
   ]
  },
  {
   "cell_type": "markdown",
   "metadata": {},
   "source": [
    "These missing values can skew analysis or cause errors in calculations."
   ]
  },
  {
   "cell_type": "markdown",
   "metadata": {},
   "source": [
    "## Addressing the Missing Values(Imputation and dropping columns)"
   ]
  },
  {
   "cell_type": "code",
   "execution_count": null,
   "metadata": {},
   "outputs": [],
   "source": [
    "columns_to_drop = ['Latitude', 'Longitude', 'Airport.Code', 'Airport.Name', 'Aircraft.Category',\n",
    "                   'FAR.Description', 'Schedule', 'Air.carrier']"
   ]
  },
  {
   "cell_type": "markdown",
   "metadata": {},
   "source": [
    "Drop Columns with more that 50% missing values"
   ]
  },
  {
   "cell_type": "code",
   "execution_count": null,
   "metadata": {},
   "outputs": [],
   "source": [
    "aviation_data_cleaned = aviation_data.drop(columns=columns_to_drop, errors='ignore')"
   ]
  },
  {
   "cell_type": "markdown",
   "metadata": {},
   "source": [
    "Imputing Missing Values"
   ]
  },
  {
   "cell_type": "code",
   "execution_count": null,
   "metadata": {},
   "outputs": [],
   "source": [
    "# Dropping high-missing-value and irrelevant columns\n",
    "columns_to_drop = ['Latitude', 'Longitude', 'Airport.Code', 'Airport.Name', 'Report.Status', 'Publication.Date']\n",
    "aviation_data_cleaned = aviation_data_cleaned.drop(columns=columns_to_drop, errors='ignore')\n",
    "\n",
    "# Imputing remaining missing values\n",
    "# For low to moderate missing columns\n",
    "low_missing_columns = ['Make', 'Model', 'Amateur.Built', 'Location', 'Country',\n",
    "                       'Registration.Number', 'Injury.Severity', 'Number.of.Engines', 'Engine.Type']\n",
    "for col in low_missing_columns:\n",
    "    aviation_data_cleaned[col] = aviation_data_cleaned[col].fillna('Unknown')\n",
    "\n",
    "# Verify the cleaning process\n",
    "print(\"Remaining Missing Values After Final Cleaning:\")\n",
    "print(aviation_data_cleaned.isnull().sum())\n"
   ]
  },
  {
   "cell_type": "markdown",
   "metadata": {},
   "source": [
    "## Analyzing Accident Frequency"
   ]
  },
  {
   "cell_type": "markdown",
   "metadata": {},
   "source": [
    "This will help us in identifying the trends in accident frequency over time and by location,helping stakeholders understand patterns and potential risk factors"
   ]
  },
  {
   "cell_type": "code",
   "execution_count": null,
   "metadata": {},
   "outputs": [],
   "source": [
    "# Extract Year from Event.Date\n",
    "# Ensuring Event.Date is a datetime object\n",
    "aviation_data_cleaned['Event.Date'] = pd.to_datetime(aviation_data_cleaned['Event.Date'], errors='coerce')\n",
    "aviation_data_cleaned['Year'] = aviation_data_cleaned['Event.Date'].dt.year\n",
    "\n",
    "# Count accidents per year\n",
    "accidents_per_year = aviation_data_cleaned['Year'].value_counts().sort_index()\n",
    "\n",
    "# Visualize accidents over time\n",
    "import matplotlib.pyplot as plt\n",
    "\n",
    "plt.figure(figsize=(12, 6))\n",
    "plt.plot(accidents_per_year.index, accidents_per_year.values, marker='o')\n",
    "plt.title('Accidents Per Year (1962-2023)', fontsize=14)\n",
    "plt.xlabel('Year', fontsize=12)\n",
    "plt.ylabel('Number of Accidents', fontsize=12)\n",
    "plt.grid(True)\n",
    "plt.show()\n",
    "\n",
    "# Analyze accidents by location (Country)\n",
    "accidents_by_country = aviation_data_cleaned['Country'].value_counts()\n",
    "\n",
    "# Display the top 10 countries with the most accidents\n",
    "print(\"Top 10 Countries with Most Accidents:\")\n",
    "print(accidents_by_country.head(10))\n",
    "\n",
    "# Visualize accidents by location\n",
    "plt.figure(figsize=(12, 6))\n",
    "accidents_by_country.head(10).plot(kind='bar', color='skyblue')\n",
    "plt.title('Top 10 Countries with Most Accidents', fontsize=14)\n",
    "plt.xlabel('Country', fontsize=12)\n",
    "plt.ylabel('Number of Accidents', fontsize=12)\n",
    "plt.show()\n",
    "\n",
    "\n",
    "# Trends in accidents over time help identify periods of higher risk.\n",
    "# Locations with high accident counts highlight regions needing more attention."
   ]
  },
  {
   "cell_type": "markdown",
   "metadata": {},
   "source": [
    "We will be looking at;\n",
    "\n",
    "1.Trends over time to deterine if accidents are increasing or decreasing and if there are any spikes or anomalies during specific years.\n",
    "\n",
    "2.High risk locations. Which countries reported the most accidents and any patterns based on geography or operational conditions."
   ]
  },
  {
   "cell_type": "markdown",
   "metadata": {},
   "source": [
    "## Analyzing Severity and Risk Indicators"
   ]
  },
  {
   "cell_type": "markdown",
   "metadata": {},
   "source": [
    "The goal is to understand the distribution of injury severity,helping stakeholders assess the impact of different accidents. I'll be keen to look at injury severity(which injury type(fatal,serious,minor) is most common, are there outliers and flight phases(phases with highest number injuries and any operational patterns contributing to risks ).  "
   ]
  },
  {
   "cell_type": "code",
   "execution_count": null,
   "metadata": {
    "scrolled": true
   },
   "outputs": [],
   "source": [
    "import matplotlib.pyplot as plt\n",
    "import numpy as np\n",
    "\n",
    "# Selecting injury-related columns\n",
    "injury_columns = ['Total.Fatal.Injuries', 'Total.Serious.Injuries', 'Total.Minor.Injuries']\n",
    "\n",
    "# Grouping by flight phase and summing the injuries\n",
    "severity_by_phase = aviation_data_cleaned.groupby('Broad.phase.of.flight')[injury_columns].sum()\n",
    "\n",
    "# Setting positions for grouped bar chart\n",
    "x = np.arange(len(severity_by_phase))  # X-axis positions for groups\n",
    "width = 0.25  # Width of each bar\n",
    "\n",
    "fig, ax = plt.subplots(figsize=(10, 6))\n",
    "\n",
    "# Plot each injury type as separate bars\n",
    "ax.bar(x - width, severity_by_phase['Total.Fatal.Injuries'], width, label='Fatal Injuries', color='purple')\n",
    "ax.bar(x, severity_by_phase['Total.Serious.Injuries'], width, label='Serious Injuries', color='teal')\n",
    "ax.bar(x + width, severity_by_phase['Total.Minor.Injuries'], width, label='Minor Injuries', color='gold')\n",
    "\n",
    "# Adding labels, title, and legend\n",
    "ax.set_xlabel('Flight Phase', fontsize=12)\n",
    "ax.set_ylabel('Number of Injuries', fontsize=12)\n",
    "ax.set_title('Severity Of Injuries By Flight Phase', fontsize=16, pad=15)\n",
    "ax.set_xticks(x)\n",
    "ax.set_xticklabels(severity_by_phase.index, rotation=45)\n",
    "ax.legend(title='Injury Type', fontsize=10)\n",
    "plt.tight_layout()\n",
    "\n",
    "plt.show()\n",
    "\n"
   ]
  },
  {
   "cell_type": "markdown",
   "metadata": {},
   "source": [
    "## Trends by Aircraft Type "
   ]
  },
  {
   "cell_type": "code",
   "execution_count": null,
   "metadata": {},
   "outputs": [],
   "source": [
    "# Normalize the 'Make' column: Convert to uppercase to handle case sensitivity\n",
    "aviation_data_cleaned['Make'] = aviation_data_cleaned['Make'].str.upper()\n",
    "\n",
    "# Correct common inconsistencies (e.g., misspellings)\n",
    "aviation_data_cleaned['Make'] = aviation_data_cleaned['Make'].replace({\n",
    "    \"BOIENG\": \"BOEING\",\n",
    "    # Add other corrections here if necessary\n",
    "})\n",
    "\n",
    "# Count accidents by aircraft make\n",
    "accidents_by_aircraft = aviation_data_cleaned['Make'].value_counts()\n",
    "\n",
    "# Display the top 10 aircraft manufacturers with the most accidents\n",
    "print(\"Top 10 Aircraft Manufacturers with Most Accidents:\")\n",
    "print(accidents_by_aircraft.head(10))\n",
    "\n",
    "# Visualize the top 10 aircraft manufacturers\n",
    "plt.figure(figsize=(10, 5))  # Match figure size\n",
    "accidents_by_aircraft.head(10).plot(kind='bar', color='orange')  # Match color\n",
    "plt.title('Top 10 Aircraft Manufacturers with Most Accidents (Standardized)', fontsize=14)\n",
    "plt.xlabel('Aircraft Manufacturer', fontsize=12)\n",
    "plt.ylabel('Number of Accidents', fontsize=12)\n",
    "plt.xticks(rotation=45, ha='right')  # Match label rotation and alignment\n",
    "plt.grid(axis='y', linestyle='--', alpha=0.7)  #\n",
    "\n"
   ]
  },
  {
   "cell_type": "markdown",
   "metadata": {},
   "source": [
    "## Weather Conditions and Accident Severity"
   ]
  },
  {
   "cell_type": "code",
   "execution_count": null,
   "metadata": {},
   "outputs": [],
   "source": [
    "import matplotlib.pyplot as plt\n",
    "import numpy as np\n",
    "\n",
    "# Analyze accidents by weather condition\n",
    "weather_severity = aviation_data_cleaned.groupby('Weather.Condition')[injury_columns].sum()\n",
    "\n",
    "# Setting positions for grouped bar chart\n",
    "x = np.arange(len(weather_severity))  # X-axis positions for groups\n",
    "width = 0.25  # Width of each bar\n",
    "\n",
    "fig, ax = plt.subplots(figsize=(12, 6))\n",
    "\n",
    "# Plot each injury type as separate bars\n",
    "ax.bar(x - width, weather_severity['Total.Fatal.Injuries'], width, label='Fatal Injuries', color='purple')\n",
    "ax.bar(x, weather_severity['Total.Serious.Injuries'], width, label='Serious Injuries', color='teal')\n",
    "ax.bar(x + width, weather_severity['Total.Minor.Injuries'], width, label='Minor Injuries', color='gold')\n",
    "\n",
    "# Adding labels, title, and legend\n",
    "ax.set_xlabel('Weather Condition', fontsize=12)\n",
    "ax.set_ylabel('Number of Injuries', fontsize=12)\n",
    "ax.set_title('Severity Of Injuries By Weather Condition', fontsize=16, pad=15)\n",
    "ax.set_xticks(x)\n",
    "ax.set_xticklabels(weather_severity.index, rotation=45)\n",
    "ax.legend(title='Injury Type', fontsize=10)\n",
    "plt.tight_layout()\n",
    "\n",
    "plt.show()\n"
   ]
  },
  {
   "cell_type": "markdown",
   "metadata": {},
   "source": [
    "## Accident Purpose "
   ]
  },
  {
   "cell_type": "code",
   "execution_count": null,
   "metadata": {},
   "outputs": [],
   "source": [
    "import matplotlib.pyplot as plt\n",
    "import numpy as np\n",
    "\n",
    "# Analyze accidents by purpose of flight\n",
    "purpose_severity = aviation_data_cleaned.groupby('Purpose.of.flight')[injury_columns].sum()\n",
    "\n",
    "# Setting positions for grouped bar chart\n",
    "x = np.arange(len(purpose_severity))  # X-axis positions for groups\n",
    "width = 0.25  # Width of each bar\n",
    "\n",
    "fig, ax = plt.subplots(figsize=(12, 6))\n",
    "\n",
    "# Plot each injury type as separate bars\n",
    "ax.bar(x - width, purpose_severity['Total.Fatal.Injuries'], width, label='Fatal Injuries', color='purple')\n",
    "ax.bar(x, purpose_severity['Total.Serious.Injuries'], width, label='Serious Injuries', color='teal')\n",
    "ax.bar(x + width, purpose_severity['Total.Minor.Injuries'], width, label='Minor Injuries', color='gold')\n",
    "\n",
    "# Adding labels, title, and legend\n",
    "ax.set_xlabel('Purpose of Flight', fontsize=12)\n",
    "ax.set_ylabel('Number of Injuries', fontsize=12)\n",
    "ax.set_title('Severity Of Injuries By Purpose Of Flight', fontsize=16, pad=15)\n",
    "ax.set_xticks(x)\n",
    "ax.set_xticklabels(purpose_severity.index, rotation=45)\n",
    "ax.legend(title='Injury Type', fontsize=10)\n",
    "plt.tight_layout()\n",
    "\n",
    "plt.show()\n"
   ]
  },
  {
   "cell_type": "markdown",
   "metadata": {},
   "source": [
    "## Observation from Analysis"
   ]
  },
  {
   "cell_type": "markdown",
   "metadata": {},
   "source": [
    "1. Accident Trends Over Time\n",
    "\n",
    "     Accidents have fluctuated over the decades, with spikes observed in earlier years.\n",
    "     The number of accidents appears to decrease in recent years, reflecting improvements in aviation safety, technology, and        regulations.\n",
    "\n",
    "\n",
    "2. Severity by Flight Phase\n",
    "\n",
    "   Cruise Phase accounts for the highest number of fatalities and serious injuries. Despite fewer occurrences   \n",
    "   compared to takeoff or landing, cruise-phase accidents tend to be more catastrophic.\n",
    "\n",
    "   Takeoff has significant injury counts across all levels, including fatalities, highlighting the risks of this critical \n",
    "   phase.\n",
    "\n",
    "   Maneuvering also records a high number of fatalities, indicating challenges during non-standard flight maneuvers.\n",
    "\n",
    "   Prioritizing safety enhancements during the cruise, takeoff, and maneuvering phases is crucial.\n",
    "\n",
    "\n",
    "3. Severity by Weather Condition\n",
    "   \n",
    "   IMC (Instrument Meteorological Conditions): Accidents during adverse weather result in more severe injuries, with   \n",
    "   fatalities and minor injuries.\n",
    "   VMC (Visual Meteorological Conditions): While VMC conditions account for more total injuries, this is likely due to the \n",
    "   higher volume of flights under these conditions.\n",
    "   Weather-related risks can be mitigated through enhanced pilot training and advanced avionics for flying in IMC conditions.\n",
    "\n",
    "\n",
    "4. Severity by Purpose of Flight\n",
    "\n",
    "     Personal Flights: These account for a majority of severe injuries and fatalities, reflecting the variability in pilot \n",
    "     experience and regulatory oversight in this sector.\n",
    "     Commercial Flights: Though less frequent, accidents in commercial aviation can result in significant injuries due to higher      passenger loads.\n",
    "     Targeting safety in personal flights offers the greatest potential for reducing aviation accidents.\n",
    "\n",
    "\n",
    "5. Top 10 Aircraft Manufacturers with Most Accidents\n",
    "\n",
    "    Cessna and Piper dominate accident records. These manufacturers are prevalent in personal and recreational aviation.\n",
    "    Commercial Manufacturers: Boeing and Airbus report fewer accidents, reflecting their advanced safety features and  \n",
    "    operational standards.\n",
    "    Selecting modern commercial aircraft with proven safety records is key to reducing risk.\n",
    "\n",
    "\n",
    "6. Top 10 Countries with Most Accidents\n",
    "\n",
    "   The United States leads in accident counts, which is expected due to its large aviation sector and comprehensive reporting  \n",
    "   systems.\n",
    "   Other countries with high accident counts may reflect regional safety challenges or reporting inconsistencies.\n",
    "   Focusing safety efforts in high-accident regions can yield significant impact.\n"
   ]
  },
  {
   "cell_type": "markdown",
   "metadata": {},
   "source": [
    "# Recommendations"
   ]
  },
  {
   "cell_type": "markdown",
   "metadata": {},
   "source": [
    "### 1. Aircraft Selection"
   ]
  },
  {
   "cell_type": "markdown",
   "metadata": {},
   "source": [
    "Focus on acquiring modern commercial aircraft from manufacturers with a strong safety track record (e.g., Boeing, Airbus) while avoiding older or recreational aircraft models from high-risk manufacturers (e.g., Cessna, Piper) unless supported by enhanced safety measures."
   ]
  },
  {
   "cell_type": "markdown",
   "metadata": {},
   "source": [
    "### 2. Prioritize Critical Flight Phases"
   ]
  },
  {
   "cell_type": "markdown",
   "metadata": {},
   "source": [
    "Implement targeted training and automated safety systems for high-risk flight phases, particularly cruise, takeoff, and maneuvering."
   ]
  },
  {
   "cell_type": "markdown",
   "metadata": {},
   "source": [
    "### 3. Enhance Weather-Related Safety"
   ]
  },
  {
   "cell_type": "markdown",
   "metadata": {},
   "source": [
    "Develop stringent protocols and pilot training programs for operating in adverse weather conditions (IMC), supported by advanced avionics systems such as predictive weather radar and real-time navigation aids."
   ]
  },
  {
   "cell_type": "markdown",
   "metadata": {},
   "source": [
    "### 4. Target Personal Aviation Risks"
   ]
  },
  {
   "cell_type": "markdown",
   "metadata": {},
   "source": [
    "Invest in initiatives to enhance safety in personal aviation, including;\n",
    "\n",
    "a. Improved training for recreational pilots.\n",
    "\n",
    "b. Stricter maintenance standards for personal and recreational aircraft.\n",
    "\n",
    "c. Educational programs on weather and operational safety for amateur pilots."
   ]
  },
  {
   "cell_type": "markdown",
   "metadata": {},
   "source": [
    "### 5. Regional Safety Initiatives"
   ]
  },
  {
   "cell_type": "markdown",
   "metadata": {},
   "source": [
    "Focus safety improvement efforts in regions with the highest accident counts, particularly in the United States and other countries with notable risks."
   ]
  },
  {
   "cell_type": "markdown",
   "metadata": {},
   "source": [
    "### 6. Invest in Technology-Driven Safety"
   ]
  },
  {
   "cell_type": "markdown",
   "metadata": {},
   "source": [
    "Equip aircraft with modern safety technologies, including:\n",
    "Automated emergency landing systems.\n",
    "Enhanced collision avoidance systems.\n",
    "Real-time engine and system monitoring tools."
   ]
  },
  {
   "cell_type": "markdown",
   "metadata": {},
   "source": [
    "# Conclusion"
   ]
  },
  {
   "cell_type": "markdown",
   "metadata": {},
   "source": [
    "## 1. Accident Trends"
   ]
  },
  {
   "cell_type": "markdown",
   "metadata": {},
   "source": [
    "Accidents have generally declined over the years due to technological advancements and safety improvements.\n"
   ]
  },
  {
   "cell_type": "markdown",
   "metadata": {},
   "source": [
    "## 2. High-Risk Factors"
   ]
  },
  {
   "cell_type": "markdown",
   "metadata": {},
   "source": [
    "a. Cruise and takeoff phases are associated with severe injuries and fatalities.\n",
    "\n",
    "b. IMC conditions pose higher risks per flight, while VMC conditions account for more injuries due to flight volume.\n"
   ]
  },
  {
   "cell_type": "markdown",
   "metadata": {},
   "source": [
    "## 3. Manufacturer Insights"
   ]
  },
  {
   "cell_type": "markdown",
   "metadata": {},
   "source": [
    "a. Cessna (27,149 accidents) and Piper (14,870 accidents) dominate accident counts, emphasizing risks in personal aviation.\n",
    "\n",
    "b. Manufacturers like Boeing and Airbus exhibit lower accident rates, reflecting advanced safety features and operational standards."
   ]
  }
 ],
 "metadata": {
  "kernelspec": {
   "display_name": "Python 3",
   "language": "python",
   "name": "python3"
  },
  "language_info": {
   "codemirror_mode": {
    "name": "ipython",
    "version": 3
   },
   "file_extension": ".py",
   "mimetype": "text/x-python",
   "name": "python",
   "nbconvert_exporter": "python",
   "pygments_lexer": "ipython3",
   "version": "3.8.5"
  }
 },
 "nbformat": 4,
 "nbformat_minor": 2
}
